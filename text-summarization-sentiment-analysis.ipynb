{
  "nbformat": 4,
  "nbformat_minor": 0,
  "metadata": {
    "colab": {
      "provenance": []
    },
    "kernelspec": {
      "name": "python3",
      "display_name": "Python 3"
    },
    "language_info": {
      "name": "python"
    }
  },
  "cells": [
    {
      "cell_type": "code",
      "source": [
        "!pip install lxml_html_clean"
      ],
      "metadata": {
        "collapsed": true,
        "colab": {
          "base_uri": "https://localhost:8080/"
        },
        "id": "qgZZ-a4hrxwT",
        "outputId": "0fce1601-05cf-4e54-acb7-dbe3845a9c87"
      },
      "execution_count": null,
      "outputs": [
        {
          "output_type": "stream",
          "name": "stdout",
          "text": [
            "Collecting lxml_html_clean\n",
            "  Downloading lxml_html_clean-0.3.1-py3-none-any.whl.metadata (2.4 kB)\n",
            "Requirement already satisfied: lxml in /usr/local/lib/python3.10/dist-packages (from lxml_html_clean) (5.3.0)\n",
            "Downloading lxml_html_clean-0.3.1-py3-none-any.whl (13 kB)\n",
            "Installing collected packages: lxml_html_clean\n",
            "Successfully installed lxml_html_clean-0.3.1\n"
          ]
        }
      ]
    },
    {
      "cell_type": "code",
      "source": [
        "!pip install newspaper3k"
      ],
      "metadata": {
        "collapsed": true,
        "colab": {
          "base_uri": "https://localhost:8080/"
        },
        "id": "pEq_lUC-ZZDB",
        "outputId": "93d603ba-0a4f-4046-8167-55d90d145337"
      },
      "execution_count": null,
      "outputs": [
        {
          "output_type": "stream",
          "name": "stdout",
          "text": [
            "Collecting newspaper3k\n",
            "  Downloading newspaper3k-0.2.8-py3-none-any.whl.metadata (11 kB)\n",
            "Requirement already satisfied: beautifulsoup4>=4.4.1 in /usr/local/lib/python3.10/dist-packages (from newspaper3k) (4.12.3)\n",
            "Requirement already satisfied: Pillow>=3.3.0 in /usr/local/lib/python3.10/dist-packages (from newspaper3k) (10.4.0)\n",
            "Requirement already satisfied: PyYAML>=3.11 in /usr/local/lib/python3.10/dist-packages (from newspaper3k) (6.0.2)\n",
            "Collecting cssselect>=0.9.2 (from newspaper3k)\n",
            "  Downloading cssselect-1.2.0-py2.py3-none-any.whl.metadata (2.2 kB)\n",
            "Requirement already satisfied: lxml>=3.6.0 in /usr/local/lib/python3.10/dist-packages (from newspaper3k) (5.3.0)\n",
            "Requirement already satisfied: nltk>=3.2.1 in /usr/local/lib/python3.10/dist-packages (from newspaper3k) (3.8.1)\n",
            "Requirement already satisfied: requests>=2.10.0 in /usr/local/lib/python3.10/dist-packages (from newspaper3k) (2.32.3)\n",
            "Collecting feedparser>=5.2.1 (from newspaper3k)\n",
            "  Downloading feedparser-6.0.11-py3-none-any.whl.metadata (2.4 kB)\n",
            "Collecting tldextract>=2.0.1 (from newspaper3k)\n",
            "  Downloading tldextract-5.1.3-py3-none-any.whl.metadata (11 kB)\n",
            "Collecting feedfinder2>=0.0.4 (from newspaper3k)\n",
            "  Downloading feedfinder2-0.0.4.tar.gz (3.3 kB)\n",
            "  Preparing metadata (setup.py) ... \u001b[?25l\u001b[?25hdone\n",
            "Collecting jieba3k>=0.35.1 (from newspaper3k)\n",
            "  Downloading jieba3k-0.35.1.zip (7.4 MB)\n",
            "\u001b[2K     \u001b[90m━━━━━━━━━━━━━━━━━━━━━━━━━━━━━━━━━━━━━━━━\u001b[0m \u001b[32m7.4/7.4 MB\u001b[0m \u001b[31m56.9 MB/s\u001b[0m eta \u001b[36m0:00:00\u001b[0m\n",
            "\u001b[?25h  Preparing metadata (setup.py) ... \u001b[?25l\u001b[?25hdone\n",
            "Requirement already satisfied: python-dateutil>=2.5.3 in /usr/local/lib/python3.10/dist-packages (from newspaper3k) (2.8.2)\n",
            "Collecting tinysegmenter==0.3 (from newspaper3k)\n",
            "  Downloading tinysegmenter-0.3.tar.gz (16 kB)\n",
            "  Preparing metadata (setup.py) ... \u001b[?25l\u001b[?25hdone\n",
            "Requirement already satisfied: soupsieve>1.2 in /usr/local/lib/python3.10/dist-packages (from beautifulsoup4>=4.4.1->newspaper3k) (2.6)\n",
            "Requirement already satisfied: six in /usr/local/lib/python3.10/dist-packages (from feedfinder2>=0.0.4->newspaper3k) (1.16.0)\n",
            "Collecting sgmllib3k (from feedparser>=5.2.1->newspaper3k)\n",
            "  Downloading sgmllib3k-1.0.0.tar.gz (5.8 kB)\n",
            "  Preparing metadata (setup.py) ... \u001b[?25l\u001b[?25hdone\n",
            "Requirement already satisfied: click in /usr/local/lib/python3.10/dist-packages (from nltk>=3.2.1->newspaper3k) (8.1.7)\n",
            "Requirement already satisfied: joblib in /usr/local/lib/python3.10/dist-packages (from nltk>=3.2.1->newspaper3k) (1.4.2)\n",
            "Requirement already satisfied: regex>=2021.8.3 in /usr/local/lib/python3.10/dist-packages (from nltk>=3.2.1->newspaper3k) (2024.9.11)\n",
            "Requirement already satisfied: tqdm in /usr/local/lib/python3.10/dist-packages (from nltk>=3.2.1->newspaper3k) (4.66.6)\n",
            "Requirement already satisfied: charset-normalizer<4,>=2 in /usr/local/lib/python3.10/dist-packages (from requests>=2.10.0->newspaper3k) (3.4.0)\n",
            "Requirement already satisfied: idna<4,>=2.5 in /usr/local/lib/python3.10/dist-packages (from requests>=2.10.0->newspaper3k) (3.10)\n",
            "Requirement already satisfied: urllib3<3,>=1.21.1 in /usr/local/lib/python3.10/dist-packages (from requests>=2.10.0->newspaper3k) (2.2.3)\n",
            "Requirement already satisfied: certifi>=2017.4.17 in /usr/local/lib/python3.10/dist-packages (from requests>=2.10.0->newspaper3k) (2024.8.30)\n",
            "Collecting requests-file>=1.4 (from tldextract>=2.0.1->newspaper3k)\n",
            "  Downloading requests_file-2.1.0-py2.py3-none-any.whl.metadata (1.7 kB)\n",
            "Requirement already satisfied: filelock>=3.0.8 in /usr/local/lib/python3.10/dist-packages (from tldextract>=2.0.1->newspaper3k) (3.16.1)\n",
            "Downloading newspaper3k-0.2.8-py3-none-any.whl (211 kB)\n",
            "\u001b[2K   \u001b[90m━━━━━━━━━━━━━━━━━━━━━━━━━━━━━━━━━━━━━━━━\u001b[0m \u001b[32m211.1/211.1 kB\u001b[0m \u001b[31m15.0 MB/s\u001b[0m eta \u001b[36m0:00:00\u001b[0m\n",
            "\u001b[?25hDownloading cssselect-1.2.0-py2.py3-none-any.whl (18 kB)\n",
            "Downloading feedparser-6.0.11-py3-none-any.whl (81 kB)\n",
            "\u001b[2K   \u001b[90m━━━━━━━━━━━━━━━━━━━━━━━━━━━━━━━━━━━━━━━━\u001b[0m \u001b[32m81.3/81.3 kB\u001b[0m \u001b[31m5.2 MB/s\u001b[0m eta \u001b[36m0:00:00\u001b[0m\n",
            "\u001b[?25hDownloading tldextract-5.1.3-py3-none-any.whl (104 kB)\n",
            "\u001b[2K   \u001b[90m━━━━━━━━━━━━━━━━━━━━━━━━━━━━━━━━━━━━━━━━\u001b[0m \u001b[32m104.9/104.9 kB\u001b[0m \u001b[31m6.7 MB/s\u001b[0m eta \u001b[36m0:00:00\u001b[0m\n",
            "\u001b[?25hDownloading requests_file-2.1.0-py2.py3-none-any.whl (4.2 kB)\n",
            "Building wheels for collected packages: tinysegmenter, feedfinder2, jieba3k, sgmllib3k\n",
            "  Building wheel for tinysegmenter (setup.py) ... \u001b[?25l\u001b[?25hdone\n",
            "  Created wheel for tinysegmenter: filename=tinysegmenter-0.3-py3-none-any.whl size=13539 sha256=680e518b41f86f4c1fdfb57df195ae1236680d28e23d3f05742c0b48a8fde388\n",
            "  Stored in directory: /root/.cache/pip/wheels/c8/d6/6c/384f58df48c00b9a31d638005143b5b3ac62c3d25fb1447f23\n",
            "  Building wheel for feedfinder2 (setup.py) ... \u001b[?25l\u001b[?25hdone\n",
            "  Created wheel for feedfinder2: filename=feedfinder2-0.0.4-py3-none-any.whl size=3342 sha256=bddf8a6bf5c7e17bc62d8581b47c4f0cd24cbb203af5a756ebbf637775551b2e\n",
            "  Stored in directory: /root/.cache/pip/wheels/97/02/e7/a1ff1760e12bdbaab0ac824fae5c1bc933e41c4ccd6a8f8edb\n",
            "  Building wheel for jieba3k (setup.py) ... \u001b[?25l\u001b[?25hdone\n",
            "  Created wheel for jieba3k: filename=jieba3k-0.35.1-py3-none-any.whl size=7398379 sha256=96600259cd2c1d245b8e580868651451d0e893e15783431551a3755c1cb885dd\n",
            "  Stored in directory: /root/.cache/pip/wheels/7a/c4/0c/12a9a314ecac499456c4c3b2fcc2f635a3b45a39dfbd240299\n",
            "  Building wheel for sgmllib3k (setup.py) ... \u001b[?25l\u001b[?25hdone\n",
            "  Created wheel for sgmllib3k: filename=sgmllib3k-1.0.0-py3-none-any.whl size=6047 sha256=8640b535ad9297bbafdb8acb735f9e556c9fd8fa070380ae9bb2cc68e25dc8cd\n",
            "  Stored in directory: /root/.cache/pip/wheels/f0/69/93/a47e9d621be168e9e33c7ce60524393c0b92ae83cf6c6e89c5\n",
            "Successfully built tinysegmenter feedfinder2 jieba3k sgmllib3k\n",
            "Installing collected packages: tinysegmenter, sgmllib3k, jieba3k, feedparser, cssselect, requests-file, feedfinder2, tldextract, newspaper3k\n",
            "Successfully installed cssselect-1.2.0 feedfinder2-0.0.4 feedparser-6.0.11 jieba3k-0.35.1 newspaper3k-0.2.8 requests-file-2.1.0 sgmllib3k-1.0.0 tinysegmenter-0.3 tldextract-5.1.3\n"
          ]
        }
      ]
    },
    {
      "cell_type": "code",
      "source": [
        "from textblob import TextBlob\n",
        "from newspaper import Article\n",
        "import nltk\n",
        "nltk.download('punkt')"
      ],
      "metadata": {
        "colab": {
          "base_uri": "https://localhost:8080/"
        },
        "collapsed": true,
        "id": "0gW6lG_HrH9w",
        "outputId": "35f8fa0c-9b66-476f-e7e6-363de3770a4b"
      },
      "execution_count": null,
      "outputs": [
        {
          "output_type": "stream",
          "name": "stderr",
          "text": [
            "[nltk_data] Downloading package punkt to /root/nltk_data...\n",
            "[nltk_data]   Unzipping tokenizers/punkt.zip.\n"
          ]
        },
        {
          "output_type": "execute_result",
          "data": {
            "text/plain": [
              "True"
            ]
          },
          "metadata": {},
          "execution_count": 7
        }
      ]
    },
    {
      "cell_type": "code",
      "source": [
        "url = 'https://www.bbc.com/news/articles/cz7w1r8pz9zo'"
      ],
      "metadata": {
        "id": "6O94ezshsE0S"
      },
      "execution_count": null,
      "outputs": []
    },
    {
      "cell_type": "code",
      "source": [
        "article = Article(url)"
      ],
      "metadata": {
        "id": "uDz2RwPRsRxv"
      },
      "execution_count": null,
      "outputs": []
    },
    {
      "cell_type": "code",
      "source": [
        "article.download()\n",
        "article.parse()\n",
        "article.nlp()"
      ],
      "metadata": {
        "id": "_AOHKkIDscYn"
      },
      "execution_count": null,
      "outputs": []
    },
    {
      "cell_type": "code",
      "source": [
        "title = article.title\n",
        "print(title)"
      ],
      "metadata": {
        "colab": {
          "base_uri": "https://localhost:8080/"
        },
        "collapsed": true,
        "id": "uvvNQ-GHZy0m",
        "outputId": "f825bc88-9d91-4913-fe8f-79d1d051ab01"
      },
      "execution_count": null,
      "outputs": [
        {
          "output_type": "stream",
          "name": "stdout",
          "text": [
            "Portland: Firm wins £141m contract to train German pilots in Dorset\n"
          ]
        }
      ]
    },
    {
      "cell_type": "code",
      "source": [
        "text = article.text\n",
        "print(text)"
      ],
      "metadata": {
        "colab": {
          "base_uri": "https://localhost:8080/"
        },
        "collapsed": true,
        "id": "AFwAmDcLsZcN",
        "outputId": "de41eecd-7539-4422-89c6-d859758317dd"
      },
      "execution_count": null,
      "outputs": [
        {
          "output_type": "stream",
          "name": "stdout",
          "text": [
            "Firm wins £141m contract to train German pilots in Dorset\n",
            "\n",
            "HeliOperations HeliOperations will run the training from its base at Portland\n",
            "\n",
            "A UK-based company that offers helicopter training has received £141m (€170m) to train pilots from the German Navy. HeliOperations said it will prepare German naval pilots for operating the NH90 Sea Lion and Sea Tiger helicopters from its base on the Isle of Portland, Dorset. It was awarded the seven-year contract by the German Ministry of Defence. The Mayor of Portland Sheila Miles called it a \"welcome investment\" in the area.\n",
            "\n",
            "Getty Images Training at the site is set to commence immediately, according to HeliOperations\n",
            "\n",
            "She said the area has \"a proud history of helicopter operations\". Portland served as an air station for the Royal Navy from 1917 until 1999. HeliOperations took control of the site in 2017. Ms Miles congratulated the helicopter training team and said: \"This new contract is fabulous news for HeliOps and for the Isle of Portland, bringing welcome investment into the area, after what many residents have seen as a lull in the island’s fortunes. \"Helicopters are very much a part of our lives here, and this investment will ensure the continuation of that part of our culture.\"\n",
            "\n",
            "'Reputation for excellence'\n",
            "\n",
            "Training at the site is set to commence immediately alongside the construction of approved infrastructure at the Portland base, according to HeliOperations. Steve Gladston, CEO and founder of HeliOperations, said: “This contract reflects the German MOD’s confidence in our ability to provide the highest standards of training, service and support and solidifies HeliOperations’ position as a leading provider of civil and military aviation training services. \"We are committed to supporting the German Navy’s evolving operational needs and are hugely proud of our reputation for excellence. \"The contract is a key milestone in the company’s continuing development”.\n",
            "\n",
            "You can follow BBC Dorset on Facebook, , or Instagram.\n"
          ]
        }
      ]
    },
    {
      "cell_type": "code",
      "source": [
        "summary = article.summary\n",
        "print(summary)"
      ],
      "metadata": {
        "colab": {
          "base_uri": "https://localhost:8080/"
        },
        "collapsed": true,
        "id": "0WhcU8TDuCHC",
        "outputId": "5e40efea-1449-47d3-c1fe-fe6b0ba2c93e"
      },
      "execution_count": null,
      "outputs": [
        {
          "output_type": "stream",
          "name": "stdout",
          "text": [
            "Firm wins £141m contract to train German pilots in DorsetHeliOperations HeliOperations will run the training from its base at PortlandA UK-based company that offers helicopter training has received £141m (€170m) to train pilots from the German Navy.\n",
            "HeliOperations said it will prepare German naval pilots for operating the NH90 Sea Lion and Sea Tiger helicopters from its base on the Isle of Portland, Dorset.\n",
            "It was awarded the seven-year contract by the German Ministry of Defence.\n",
            "'Reputation for excellence'Training at the site is set to commence immediately alongside the construction of approved infrastructure at the Portland base, according to HeliOperations.\n",
            "\"We are committed to supporting the German Navy’s evolving operational needs and are hugely proud of our reputation for excellence.\n"
          ]
        }
      ]
    },
    {
      "cell_type": "code",
      "source": [
        "author = article.authors\n",
        "print(author)"
      ],
      "metadata": {
        "colab": {
          "base_uri": "https://localhost:8080/"
        },
        "collapsed": true,
        "id": "_sK0holDc-t1",
        "outputId": "03fd36b8-1721-4025-9ca9-554a33931594"
      },
      "execution_count": null,
      "outputs": [
        {
          "output_type": "stream",
          "name": "stdout",
          "text": [
            "[]\n"
          ]
        }
      ]
    },
    {
      "cell_type": "code",
      "source": [
        "published_date = article.publish_date\n",
        "print(published_date)"
      ],
      "metadata": {
        "colab": {
          "base_uri": "https://localhost:8080/"
        },
        "collapsed": true,
        "id": "-bJdBgnRdsXv",
        "outputId": "e98e28ad-1523-4345-f044-9bf92aebff6e"
      },
      "execution_count": null,
      "outputs": [
        {
          "output_type": "stream",
          "name": "stdout",
          "text": [
            "None\n"
          ]
        }
      ]
    },
    {
      "cell_type": "code",
      "source": [
        "sentiment_text = TextBlob(text).sentiment.polarity\n",
        "print(sentiment_text)"
      ],
      "metadata": {
        "colab": {
          "base_uri": "https://localhost:8080/"
        },
        "id": "2hxqIkuluS-O",
        "outputId": "27d6a850-0b2b-4c93-c0be-d435bb6e5e21",
        "collapsed": true
      },
      "execution_count": null,
      "outputs": [
        {
          "output_type": "stream",
          "name": "stdout",
          "text": [
            "0.11026515151515148\n"
          ]
        }
      ]
    },
    {
      "cell_type": "code",
      "source": [
        "sentiment_summary = TextBlob(summary).sentiment.polarity\n",
        "print(sentiment_summary)"
      ],
      "metadata": {
        "colab": {
          "base_uri": "https://localhost:8080/"
        },
        "id": "Bigmyj1puoKw",
        "outputId": "a216e0c4-c82d-4ab8-b996-e933bca3824a",
        "collapsed": true
      },
      "execution_count": null,
      "outputs": [
        {
          "output_type": "stream",
          "name": "stdout",
          "text": [
            "-0.08846153846153847\n"
          ]
        }
      ]
    },
    {
      "cell_type": "code",
      "source": [
        "# import tkinter as tk\n",
        "# from newspaper import Article\n",
        "# from textblob import TextBlob\n",
        "\n",
        "# window = tk.Tk()\n",
        "# window.geometry('1200x600')\n",
        "# window.title('Text Summary & Sentiment Analysis')\n",
        "\n",
        "# title_label = tk.Label(window, text = 'Title', font = (\"Arial\", 20))\n",
        "# title_label.pack()\n",
        "\n",
        "# title_box = tk.Text(window, height = 1, width = 150)\n",
        "# title_box.config(state = 'disabled', bg = 'white', font = (\"Arial\", 15))\n",
        "# title_box.pack()\n",
        "\n",
        "# summary_label = tk.Label(window, text = 'Summary', font = (\"Arial\", 20))\n",
        "# summary_label.pack()\n",
        "\n",
        "# summary_box = tk.Text(window, height = 1, width = 150)\n",
        "# summary_box.config(state = 'disabled', bg = 'white', font = (\"Arial\", 15))\n",
        "# summary_box.pack()\n",
        "\n",
        "# author_label = tk.Label(window, text = 'Author', font = (\"Arial\", 20))\n",
        "# author_label.pack()\n",
        "\n",
        "# author_box = tk.Text(window, height = 1, width = 150)\n",
        "# author_box.config(state = 'disabled', bg = 'white', font = (\"Arial\", 15))\n",
        "# author_box.pack()\n",
        "\n",
        "# published_label = tk.Label(window, text = 'Published Date', font = (\"Arial\", 20))\n",
        "# published_label.pack()\n",
        "\n",
        "# published_box = tk.Text(window, height = 1, width = 150)\n",
        "# published_box.config(state = 'disabled', bg = 'white', font = (\"Arial\", 15))\n",
        "# published_box.pack()\n",
        "\n",
        "# sentiment_label = tk.Label(window, text = 'Sentiment', font = (\"Arial\", 20))\n",
        "# sentiment_label.pack()\n",
        "\n",
        "# sentiment_box = tk.Text(window, height = 1, width = 150)\n",
        "# sentiment_box.config(state = 'disabled', bg = 'white', font = (\"Arial\", 15))\n",
        "# sentiment_box.pack()\n",
        "\n",
        "# url_label = tk.Label(window, text = 'URL', font = (\"Arial\", 20))\n",
        "# url_label.pack()\n",
        "\n",
        "# url_box = tk.Text(window, height = 1, width = 150)\n",
        "# url_box.config(bg = 'white', font = (\"Arial\", 15))\n",
        "# url_box.pack()\n",
        "\n",
        "# def analyze():\n",
        "    # url = url_box.get('1.0', 'end').strip()\n",
        "\n",
        "    # article = Article(url)\n",
        "    # article.download()\n",
        "    # article.parse()\n",
        "    # article.nlp()\n",
        "\n",
        "    # title_box.config(state='normal')\n",
        "    # author_box.config(state='normal')\n",
        "    # published_box.config(state='normal')\n",
        "    # summary_box.config(state='normal')\n",
        "    # sentiment_box.config(state='normal')\n",
        "\n",
        "    # title_box.delete('1.0', 'end')\n",
        "    # title_box.insert('1.0', article.title)\n",
        "\n",
        "    # author_box.delete('1.0', 'end')\n",
        "    # author_box.insert('1.0', article.authors)\n",
        "\n",
        "    # published_box.delete('1.0', 'end')\n",
        "    # published_box.insert('1.0', article.publish_date)\n",
        "\n",
        "    # summary_box.delete('1.0', 'end')\n",
        "    # summary_box.insert('1.0', article.summary)\n",
        "\n",
        "    # sentiment_analysis = TextBlob(article.text).sentiment.polarity\n",
        "\n",
        "    # sentiment_box.delete('1.0', 'end')\n",
        "    # sentiment_box.insert('1.0', sentiment_analysis)\n",
        "\n",
        "    # title_box.config(state='disabled')\n",
        "    # author_box.config(state='disabled')\n",
        "    # published_box.config(state='disabled')\n",
        "    # summary_box.config(state='disabled')\n",
        "    # sentiment_box.config(state='disabled')\n",
        "\n",
        "# btn = tk.Button(window, text = 'Analyze', command = analyze)\n",
        "# btn.pack()\n",
        "\n",
        "# window.mainloop()"
      ],
      "metadata": {
        "id": "KtmOA6YzWZEf"
      },
      "execution_count": null,
      "outputs": []
    },
    {
      "cell_type": "code",
      "source": [
        "!pip install transformers"
      ],
      "metadata": {
        "id": "-35XrmsQWeec",
        "colab": {
          "base_uri": "https://localhost:8080/"
        },
        "collapsed": true,
        "outputId": "1ec3d29e-9db6-4121-f2c1-bcc379926b11"
      },
      "execution_count": null,
      "outputs": [
        {
          "output_type": "stream",
          "name": "stdout",
          "text": [
            "Requirement already satisfied: transformers in /usr/local/lib/python3.10/dist-packages (4.44.2)\n",
            "Requirement already satisfied: filelock in /usr/local/lib/python3.10/dist-packages (from transformers) (3.16.1)\n",
            "Requirement already satisfied: huggingface-hub<1.0,>=0.23.2 in /usr/local/lib/python3.10/dist-packages (from transformers) (0.24.7)\n",
            "Requirement already satisfied: numpy>=1.17 in /usr/local/lib/python3.10/dist-packages (from transformers) (1.26.4)\n",
            "Requirement already satisfied: packaging>=20.0 in /usr/local/lib/python3.10/dist-packages (from transformers) (24.1)\n",
            "Requirement already satisfied: pyyaml>=5.1 in /usr/local/lib/python3.10/dist-packages (from transformers) (6.0.2)\n",
            "Requirement already satisfied: regex!=2019.12.17 in /usr/local/lib/python3.10/dist-packages (from transformers) (2024.9.11)\n",
            "Requirement already satisfied: requests in /usr/local/lib/python3.10/dist-packages (from transformers) (2.32.3)\n",
            "Requirement already satisfied: safetensors>=0.4.1 in /usr/local/lib/python3.10/dist-packages (from transformers) (0.4.5)\n",
            "Requirement already satisfied: tokenizers<0.20,>=0.19 in /usr/local/lib/python3.10/dist-packages (from transformers) (0.19.1)\n",
            "Requirement already satisfied: tqdm>=4.27 in /usr/local/lib/python3.10/dist-packages (from transformers) (4.66.6)\n",
            "Requirement already satisfied: fsspec>=2023.5.0 in /usr/local/lib/python3.10/dist-packages (from huggingface-hub<1.0,>=0.23.2->transformers) (2024.10.0)\n",
            "Requirement already satisfied: typing-extensions>=3.7.4.3 in /usr/local/lib/python3.10/dist-packages (from huggingface-hub<1.0,>=0.23.2->transformers) (4.12.2)\n",
            "Requirement already satisfied: charset-normalizer<4,>=2 in /usr/local/lib/python3.10/dist-packages (from requests->transformers) (3.4.0)\n",
            "Requirement already satisfied: idna<4,>=2.5 in /usr/local/lib/python3.10/dist-packages (from requests->transformers) (3.10)\n",
            "Requirement already satisfied: urllib3<3,>=1.21.1 in /usr/local/lib/python3.10/dist-packages (from requests->transformers) (2.2.3)\n",
            "Requirement already satisfied: certifi>=2017.4.17 in /usr/local/lib/python3.10/dist-packages (from requests->transformers) (2024.8.30)\n"
          ]
        }
      ]
    },
    {
      "cell_type": "code",
      "source": [
        "from transformers import pipeline\n",
        "\n",
        "summarizer = pipeline('summarization', model = ('facebook/bart-large-cnn'))"
      ],
      "metadata": {
        "colab": {
          "base_uri": "https://localhost:8080/"
        },
        "collapsed": true,
        "id": "RjYfrEz9D7Cc",
        "outputId": "5cac97de-9153-4260-8487-814b992dec19"
      },
      "execution_count": null,
      "outputs": [
        {
          "output_type": "stream",
          "name": "stderr",
          "text": [
            "/usr/local/lib/python3.10/dist-packages/transformers/tokenization_utils_base.py:1601: FutureWarning: `clean_up_tokenization_spaces` was not set. It will be set to `True` by default. This behavior will be depracted in transformers v4.45, and will be then set to `False` by default. For more details check this issue: https://github.com/huggingface/transformers/issues/31884\n",
            "  warnings.warn(\n"
          ]
        }
      ]
    },
    {
      "cell_type": "code",
      "source": [
        "Summary = summarizer(text, min_length = 50, max_length = 100)\n",
        "print(Summary)"
      ],
      "metadata": {
        "colab": {
          "base_uri": "https://localhost:8080/"
        },
        "collapsed": true,
        "id": "JK8vwumdE0PV",
        "outputId": "f20cf038-7390-4ee5-852f-548deb992b0f"
      },
      "execution_count": null,
      "outputs": [
        {
          "output_type": "stream",
          "name": "stdout",
          "text": [
            "[{'summary_text': 'HeliOperations said it will prepare German naval pilots for operating the NH90 Sea Lion and Sea Tiger helicopters. It was awarded the seven-year contract by the German Ministry of Defence. Mayor of Portland Sheila Miles called it a \"welcome investment\" in the area.'}]\n"
          ]
        }
      ]
    }
  ]
}
